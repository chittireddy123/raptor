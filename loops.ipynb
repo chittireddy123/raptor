{
 "cells": [
  {
   "cell_type": "code",
   "execution_count": 1,
   "metadata": {},
   "outputs": [
    {
     "name": "stdout",
     "output_type": "stream",
     "text": [
      "enter ur age sahithi19\n",
      "sorry! yaar this is only for children\n"
     ]
    }
   ],
   "source": [
    "#conditional statements\n",
    "\n",
    "age=int(input(\"enter ur age sahithi\"))\n",
    "if (age==18):\n",
    "    print(\"u can participate in the dance compitition\")\n",
    "else:\n",
    "    print(\"sorry! yaar this is only for children\")\n",
    "\n",
    "\n",
    "\n"
   ]
  },
  {
   "cell_type": "code",
   "execution_count": 2,
   "metadata": {},
   "outputs": [
    {
     "name": "stdout",
     "output_type": "stream",
     "text": [
      "iam smaller than u\n"
     ]
    }
   ],
   "source": [
    "x=10\n",
    "if(x<14):\n",
    "    print(\"iam smaller than u\")"
   ]
  },
  {
   "cell_type": "markdown",
   "metadata": {},
   "source": [
    "# example 3\n",
    "\n"
   ]
  },
  {
   "cell_type": "code",
   "execution_count": 4,
   "metadata": {},
   "outputs": [
    {
     "name": "stdout",
     "output_type": "stream",
     "text": [
      "y is greater\n"
     ]
    }
   ],
   "source": [
    "#find large number\n",
    "\n",
    "x=10\n",
    "y=20\n",
    "if(x>y):\n",
    "    print(\"x is larger\")\n",
    "else:\n",
    "    print(\"y is greater\")\n",
    "    "
   ]
  },
  {
   "cell_type": "markdown",
   "metadata": {},
   "source": [
    "# example 4"
   ]
  },
  {
   "cell_type": "code",
   "execution_count": 9,
   "metadata": {},
   "outputs": [
    {
     "name": "stdout",
     "output_type": "stream",
     "text": [
      "enter 1st num4\n",
      "enter 2nd num2\n",
      "8\n"
     ]
    }
   ],
   "source": [
    "x=int(input(\"enter 1st num\"))\n",
    "y=int(input(\"enter 2nd num\"))\n",
    "if(x==y):\n",
    "    print(x*x)\n",
    "else:\n",
    "    print(x*y)\n",
    "\n",
    "\n",
    "\n",
    "\n",
    "\n",
    "\n"
   ]
  },
  {
   "cell_type": "markdown",
   "metadata": {},
   "source": [
    "# example 5"
   ]
  },
  {
   "cell_type": "code",
   "execution_count": 10,
   "metadata": {},
   "outputs": [
    {
     "name": "stdout",
     "output_type": "stream",
     "text": [
      "positive num\n"
     ]
    }
   ],
   "source": [
    "num=10\n",
    "if(num<0):\n",
    "    print(\"negative num\")\n",
    "elif(num>0):\n",
    "    print(\"positive num\")\n",
    "else:\n",
    "    print(\"zero\")"
   ]
  },
  {
   "cell_type": "markdown",
   "metadata": {},
   "source": [
    "# example 7"
   ]
  },
  {
   "cell_type": "markdown",
   "metadata": {},
   "source": [
    "# loop statements"
   ]
  },
  {
   "cell_type": "code",
   "execution_count": 11,
   "metadata": {},
   "outputs": [
    {
     "name": "stdout",
     "output_type": "stream",
     "text": [
      "1\n",
      "2\n",
      "3\n",
      "4\n",
      "5\n",
      "6\n",
      "7\n",
      "8\n",
      "9\n",
      "10\n"
     ]
    }
   ],
   "source": [
    "i=1\n",
    "while(i<=10):\n",
    "    print(i)\n",
    "    i=i+1"
   ]
  },
  {
   "cell_type": "code",
   "execution_count": 12,
   "metadata": {},
   "outputs": [
    {
     "name": "stdout",
     "output_type": "stream",
     "text": [
      "dog\n",
      "cat\n",
      "elephant\n"
     ]
    }
   ],
   "source": [
    "pets=(\"dog\",\"cat\",\"elephant\")\n",
    "for x in pets:\n",
    "    print(x)\n",
    "    \n",
    "\n",
    "\n",
    "\n",
    "\n",
    "\n",
    "\n",
    "\n"
   ]
  },
  {
   "cell_type": "code",
   "execution_count": 1,
   "metadata": {},
   "outputs": [
    {
     "name": "stdout",
     "output_type": "stream",
     "text": [
      "-22\n",
      "-23\n",
      "-24\n",
      "-25\n",
      "-26\n",
      "-27\n",
      "-28\n",
      "-29\n",
      "-30\n",
      "-31\n",
      "-32\n",
      "-33\n",
      "-34\n",
      "-35\n",
      "-36\n",
      "-37\n",
      "-38\n",
      "-39\n",
      "-40\n",
      "-41\n",
      "-42\n",
      "-43\n",
      "-44\n",
      "-45\n"
     ]
    }
   ],
   "source": [
    "n=-22\n",
    "while(n>=-45):\n",
    "    print(n)\n",
    "    n=n-1"
   ]
  },
  {
   "cell_type": "code",
   "execution_count": 3,
   "metadata": {},
   "outputs": [
    {
     "name": "stdout",
     "output_type": "stream",
     "text": [
      "10\n",
      "9\n",
      "8\n",
      "7\n",
      "6\n",
      "5\n",
      "4\n",
      "3\n",
      "2\n",
      "1\n"
     ]
    }
   ],
   "source": [
    "n=10\n",
    "while(n>=1):\n",
    "    print(n)\n",
    "    n=n-1"
   ]
  },
  {
   "cell_type": "code",
   "execution_count": 5,
   "metadata": {},
   "outputs": [
    {
     "name": "stdout",
     "output_type": "stream",
     "text": [
      "enter the limit\n",
      "the lower limit is 1\n",
      "the upper limit is  101\n",
      "2550\n"
     ]
    }
   ],
   "source": [
    "print(\"enter the limit\")\n",
    "l=int(input(\"the lower limit is \"))\n",
    "u=int(input(\"the upper limit is  \"))\n",
    "sum=0\n",
    "while(l!=u):\n",
    "    if(l%2==0):\n",
    "        sum=sum+l;\n",
    "    l=l+1\n",
    "    \n",
    "print(sum)\n",
    "\n",
    "\n"
   ]
  },
  {
   "cell_type": "code",
   "execution_count": 2,
   "metadata": {},
   "outputs": [
    {
     "name": "stdout",
     "output_type": "stream",
     "text": [
      "enter a num121\n",
      "1\n",
      "2\n",
      "1\n"
     ]
    }
   ],
   "source": [
    "n=int(input(\"enter a num\"))\n",
    "sum=0\n",
    "while(n!=0):\n",
    "    r=n%10\n",
    "    print(r)  \n",
    "    n=n//10\n"
   ]
  },
  {
   "cell_type": "code",
   "execution_count": 6,
   "metadata": {},
   "outputs": [
    {
     "name": "stdout",
     "output_type": "stream",
     "text": [
      "enter the number122\n",
      "4\n"
     ]
    }
   ],
   "source": [
    "n=int(input(\"enter the number\"))\n",
    "sum=0\n",
    "while(n!=0):\n",
    "    r=n%10\n",
    "    if(r%2==0):\n",
    "        sum+=r\n",
    "    n=n//10\n",
    "print(sum)"
   ]
  },
  {
   "cell_type": "code",
   "execution_count": 12,
   "metadata": {},
   "outputs": [
    {
     "name": "stdout",
     "output_type": "stream",
     "text": [
      "enter a num123\n",
      "three\n",
      "two\n",
      "one\n"
     ]
    }
   ],
   "source": [
    "n=int(input(\"enter a num\"))\n",
    "while(n!=0):\n",
    "    r=n%10\n",
    "    if(r==1):\n",
    "      print(\"one\")\n",
    "    elif(r==2):\n",
    "     print(\"two\")\n",
    "    elif(r==3):\n",
    "     print(\"three\")\n",
    "    n=n//10"
   ]
  },
  {
   "cell_type": "code",
   "execution_count": null,
   "metadata": {},
   "outputs": [],
   "source": [
    "digit=int(input(\"enter a num\"))\n",
    "l1=int(input(\"enter lower limit\"))\n",
    "l2=int(input(\"enter upper limit\"))\n",
    "count=0\n",
    "while(l1!=l2):\n",
    "    temp=l1\n",
    "    while(l1!=0):\n",
    "        r=l1%10\n",
    "        if(r==digit):\n",
    "            count=count+1\n",
    "        l1=l1/10\n",
    "        l1=temp\n",
    "        l1=l1+1\n",
    "print(count)"
   ]
  },
  {
   "cell_type": "code",
   "execution_count": 5,
   "metadata": {},
   "outputs": [
    {
     "name": "stdout",
     "output_type": "stream",
     "text": [
      "1 2 3 4 5 6 7 8 \n"
     ]
    }
   ],
   "source": [
    "def printnatnum(n):\n",
    " cnt=1\n",
    " while(cnt<=n):\n",
    "     print(cnt,end=\" \")\n",
    "     cnt=cnt+1\n",
    " print()\n",
    " return\n",
    "printnatnum(8)\n",
    "\n"
   ]
  },
  {
   "cell_type": "code",
   "execution_count": 13,
   "metadata": {},
   "outputs": [
    {
     "name": "stdout",
     "output_type": "stream",
     "text": [
      "120\n",
      "720\n"
     ]
    }
   ],
   "source": [
    "def findfact(n):\n",
    "    fact=1\n",
    "    while(n!=0):\n",
    "       fact=fact*n\n",
    "       n=n-1\n",
    "    return fact\n",
    "print(findfact(5))\n",
    "print(findfact(6))"
   ]
  },
  {
   "cell_type": "code",
   "execution_count": null,
   "metadata": {},
   "outputs": [],
   "source": []
  },
  {
   "cell_type": "code",
   "execution_count": 1,
   "metadata": {},
   "outputs": [
    {
     "name": "stdout",
     "output_type": "stream",
     "text": [
      "0\n"
     ]
    }
   ],
   "source": [
    "def countofpalindrome(n1,n2):\n",
    "    cnt=0\n",
    "    sum=0\n",
    "    while(n1!=0):\n",
    "        r=n1%10\n",
    "        sum=(sum*10)+r\n",
    "        n1=n1/10\n",
    "        if(n1==sum):\n",
    "            cnt=cnt+1\n",
    "            n1=n1+1\n",
    "            \n",
    "            \n",
    "    return cnt      \n",
    "            \n",
    "print(countofpalindrome(10,30))"
   ]
  },
  {
   "cell_type": "code",
   "execution_count": null,
   "metadata": {},
   "outputs": [],
   "source": []
  },
  {
   "cell_type": "code",
   "execution_count": null,
   "metadata": {},
   "outputs": [],
   "source": []
  }
 ],
 "metadata": {
  "kernelspec": {
   "display_name": "Python 3",
   "language": "python",
   "name": "python3"
  },
  "language_info": {
   "codemirror_mode": {
    "name": "ipython",
    "version": 3
   },
   "file_extension": ".py",
   "mimetype": "text/x-python",
   "name": "python",
   "nbconvert_exporter": "python",
   "pygments_lexer": "ipython3",
   "version": "3.7.3"
  }
 },
 "nbformat": 4,
 "nbformat_minor": 2
}
